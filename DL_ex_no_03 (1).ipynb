{
 "cells": [
  {
   "cell_type": "code",
   "execution_count": 3,
   "id": "d6009e61",
   "metadata": {},
   "outputs": [],
   "source": [
    "import tensorflow as tf\n",
    "from tensorflow import keras\n",
    "from tensorflow.keras import Sequential\n",
    "from tensorflow.keras.layers import Dense,Flatten"
   ]
  },
  {
   "cell_type": "code",
   "execution_count": 4,
   "id": "bc4c1c3c",
   "metadata": {},
   "outputs": [],
   "source": [
    "(x_train,y_train),(x_test,y_test)=keras.datasets.mnist.load_data()"
   ]
  },
  {
   "cell_type": "code",
   "execution_count": 5,
   "id": "4bd7d7ee",
   "metadata": {},
   "outputs": [
    {
     "data": {
      "text/plain": [
       "<matplotlib.image.AxesImage at 0x178592ac7c0>"
      ]
     },
     "execution_count": 5,
     "metadata": {},
     "output_type": "execute_result"
    },
    {
     "data": {
      "image/png": "[encoded data removed]",
      "text/plain": [
       "<Figure size 432x288 with 1 Axes>"
      ]
     },
     "metadata": {
      "needs_background": "light"
     },
     "output_type": "display_data"
    }
   ],
   "source": [
    "import matplotlib.pyplot as plt\n",
    "plt.imshow(x_train[5])"
   ]
  },
  {
   "cell_type": "code",
   "execution_count": 7,
   "id": "c0b6564f",
   "metadata": {},
   "outputs": [],
   "source": [
    "x_train = x_train/255\n",
    "x_test = x_test/255"
   ]
  },
  {
   "cell_type": "code",
   "execution_count": 8,
   "id": "a095a701",
   "metadata": {},
   "outputs": [
    {
     "data": {
      "text/plain": [
       "array([[0.        , 0.        , 0.        , 0.        , 0.        ,\n",
       "        0.        , 0.        , 0.        , 0.        , 0.        ,\n",
       "        0.        , 0.        , 0.        , 0.        , 0.        ,\n",
       "        0.        , 0.        , 0.        , 0.        , 0.        ,\n",
       "        0.        , 0.        , 0.        , 0.        , 0.        ,\n",
       "        0.        , 0.        , 0.        ],\n",
       "       [0.        , 0.        , 0.        , 0.        , 0.        ,\n",
       "        0.        , 0.        , 0.        , 0.        , 0.        ,\n",
       "        0.        , 0.        , 0.        , 0.        , 0.        ,\n",
       "        0.        , 0.        , 0.        , 0.        , 0.        ,\n",
       "        0.        , 0.        , 0.        , 0.        , 0.        ,\n",
       "        0.        , 0.        , 0.        ],\n",
       "       [0.        , 0.        , 0.        , 0.        , 0.        ,\n",
       "        0.        , 0.        , 0.        , 0.        , 0.        ,\n",
       "        0.        , 0.        , 0.        , 0.        , 0.        ,\n",
       "        0.        , 0.        , 0.        , 0.        , 0.        ,\n",
       "        0.        , 0.        , 0.        , 0.        , 0.        ,\n",
       "        0.        , 0.        , 0.        ],\n",
       "       [0.        , 0.        , 0.        , 0.        , 0.        ,\n",
       "        0.        , 0.        , 0.        , 0.        , 0.        ,\n",
       "        0.        , 0.        , 0.        , 0.        , 0.        ,\n",
       "        0.        , 0.        , 0.        , 0.        , 0.        ,\n",
       "        0.        , 0.        , 0.        , 0.        , 0.        ,\n",
       "        0.        , 0.        , 0.        ],\n",
       "       [0.        , 0.        , 0.        , 0.        , 0.        ,\n",
       "        0.        , 0.        , 0.        , 0.        , 0.        ,\n",
       "        0.        , 0.        , 0.        , 0.        , 0.        ,\n",
       "        0.        , 0.        , 0.        , 0.        , 0.        ,\n",
       "        0.        , 0.        , 0.        , 0.        , 0.        ,\n",
       "        0.        , 0.        , 0.        ],\n",
       "       [0.        , 0.        , 0.        , 0.        , 0.        ,\n",
       "        0.        , 0.        , 0.        , 0.        , 0.        ,\n",
       "        0.        , 0.        , 0.01176471, 0.07058824, 0.07058824,\n",
       "        0.07058824, 0.49411765, 0.53333333, 0.68627451, 0.10196078,\n",
       "        0.65098039, 1.        , 0.96862745, 0.49803922, 0.        ,\n",
       "        0.        , 0.        , 0.        ],\n",
       "       [0.        , 0.        , 0.        , 0.        , 0.        ,\n",
       "        0.        , 0.        , 0.        , 0.11764706, 0.14117647,\n",
       "        0.36862745, 0.60392157, 0.66666667, 0.99215686, 0.99215686,\n",
       "        0.99215686, 0.99215686, 0.99215686, 0.88235294, 0.6745098 ,\n",
       "        0.99215686, 0.94901961, 0.76470588, 0.25098039, 0.        ,\n",
       "        0.        , 0.        , 0.        ],\n",
       "       [0.        , 0.        , 0.        , 0.        , 0.        ,\n",
       "        0.        , 0.        , 0.19215686, 0.93333333, 0.99215686,\n",
       "        0.99215686, 0.99215686, 0.99215686, 0.99215686, 0.99215686,\n",
       "        0.99215686, 0.99215686, 0.98431373, 0.36470588, 0.32156863,\n",
       "        0.32156863, 0.21960784, 0.15294118, 0.        , 0.        ,\n",
       "        0.        , 0.        , 0.        ],\n",
       "       [0.        , 0.        , 0.        , 0.        , 0.        ,\n",
       "        0.        , 0.        , 0.07058824, 0.85882353, 0.99215686,\n",
       "        0.99215686, 0.99215686, 0.99215686, 0.99215686, 0.77647059,\n",
       "        0.71372549, 0.96862745, 0.94509804, 0.        , 0.        ,\n",
       "        0.        , 0.        , 0.        , 0.        , 0.        ,\n",
       "        0.        , 0.        , 0.        ],\n",
       "       [0.        , 0.        , 0.        , 0.        , 0.        ,\n",
       "        0.        , 0.        , 0.        , 0.31372549, 0.61176471,\n",
       "        0.41960784, 0.99215686, 0.99215686, 0.80392157, 0.04313725,\n",
       "        0.        , 0.16862745, 0.60392157, 0.        , 0.        ,\n",
       "        0.        , 0.        , 0.        , 0.        , 0.        ,\n",
       "        0.        , 0.        , 0.        ],\n",
       "       [0.        , 0.        , 0.        , 0.        , 0.        ,\n",
       "        0.        , 0.        , 0.        , 0.        , 0.05490196,\n",
       "        0.00392157, 0.60392157, 0.99215686, 0.35294118, 0.        ,\n",
       "        0.        , 0.        , 0.        , 0.        , 0.        ,\n",
       "        0.        , 0.        , 0.        , 0.        , 0.        ,\n",
       "        0.        , 0.        , 0.        ],\n",
       "       [0.        , 0.        , 0.        , 0.        , 0.        ,\n",
       "        0.        , 0.        , 0.        , 0.        , 0.        ,\n",
       "        0.        , 0.54509804, 0.99215686, 0.74509804, 0.00784314,\n",
       "        0.        , 0.        , 0.        , 0.        , 0.        ,\n",
       "        0.        , 0.        , 0.        , 0.        , 0.        ,\n",
       "        0.        , 0.        , 0.        ],\n",
       "       [0.        , 0.        , 0.        , 0.        , 0.        ,\n",
       "        0.        , 0.        , 0.        , 0.        , 0.        ,\n",
       "        0.        , 0.04313725, 0.74509804, 0.99215686, 0.2745098 ,\n",
       "        0.        , 0.        , 0.        , 0.        , 0.        ,\n",
       "        0.        , 0.        , 0.        , 0.        , 0.        ,\n",
       "        0.        , 0.        , 0.        ],\n",
       "       [0.        , 0.        , 0.        , 0.        , 0.        ,\n",
       "        0.        , 0.        , 0.        , 0.        , 0.        ,\n",
       "        0.        , 0.        , 0.1372549 , 0.94509804, 0.88235294,\n",
       "        0.62745098, 0.42352941, 0.00392157, 0.        , 0.        ,\n",
       "        0.        , 0.        , 0.        , 0.        , 0.        ,\n",
       "        0.        , 0.        , 0.        ],\n",
       "       [0.        , 0.        , 0.        , 0.        , 0.        ,\n",
       "        0.        , 0.        , 0.        , 0.        , 0.        ,\n",
       "        0.        , 0.        , 0.        , 0.31764706, 0.94117647,\n",
       "        0.99215686, 0.99215686, 0.46666667, 0.09803922, 0.        ,\n",
       "        0.        , 0.        , 0.        , 0.        , 0.        ,\n",
       "        0.        , 0.        , 0.        ],\n",
       "       [0.        , 0.        , 0.        , 0.        , 0.        ,\n",
       "        0.        , 0.        , 0.        , 0.        , 0.        ,\n",
       "        0.        , 0.        , 0.        , 0.        , 0.17647059,\n",
       "        0.72941176, 0.99215686, 0.99215686, 0.58823529, 0.10588235,\n",
       "        0.        , 0.        , 0.        , 0.        , 0.        ,\n",
       "        0.        , 0.        , 0.        ],\n",
       "       [0.        , 0.        , 0.        , 0.        , 0.        ,\n",
       "        0.        , 0.        , 0.        , 0.        , 0.        ,\n",
       "        0.        , 0.        , 0.        , 0.        , 0.        ,\n",
       "        0.0627451 , 0.36470588, 0.98823529, 0.99215686, 0.73333333,\n",
       "        0.        , 0.        , 0.        , 0.        , 0.        ,\n",
       "        0.        , 0.        , 0.        ],\n",
       "       [0.        , 0.        , 0.        , 0.        , 0.        ,\n",
       "        0.        , 0.        , 0.        , 0.        , 0.        ,\n",
       "        0.        , 0.        , 0.        , 0.        , 0.        ,\n",
       "        0.        , 0.        , 0.97647059, 0.99215686, 0.97647059,\n",
       "        0.25098039, 0.        , 0.        , 0.        , 0.        ,\n",
       "        0.        , 0.        , 0.        ],\n",
       "       [0.        , 0.        , 0.        , 0.        , 0.        ,\n",
       "        0.        , 0.        , 0.        , 0.        , 0.        ,\n",
       "        0.        , 0.        , 0.        , 0.        , 0.18039216,\n",
       "        0.50980392, 0.71764706, 0.99215686, 0.99215686, 0.81176471,\n",
       "        0.00784314, 0.        , 0.        , 0.        , 0.        ,\n",
       "        0.        , 0.        , 0.        ],\n",
       "       [0.        , 0.        , 0.        , 0.        , 0.        ,\n",
       "        0.        , 0.        , 0.        , 0.        , 0.        ,\n",
       "        0.        , 0.        , 0.15294118, 0.58039216, 0.89803922,\n",
       "        0.99215686, 0.99215686, 0.99215686, 0.98039216, 0.71372549,\n",
       "        0.        , 0.        , 0.        , 0.        , 0.        ,\n",
       "        0.        , 0.        , 0.        ],\n",
       "       [0.        , 0.        , 0.        , 0.        , 0.        ,\n",
       "        0.        , 0.        , 0.        , 0.        , 0.        ,\n",
       "        0.09411765, 0.44705882, 0.86666667, 0.99215686, 0.99215686,\n",
       "        0.99215686, 0.99215686, 0.78823529, 0.30588235, 0.        ,\n",
       "        0.        , 0.        , 0.        , 0.        , 0.        ,\n",
       "        0.        , 0.        , 0.        ],\n",
       "       [0.        , 0.        , 0.        , 0.        , 0.        ,\n",
       "        0.        , 0.        , 0.        , 0.09019608, 0.25882353,\n",
       "        0.83529412, 0.99215686, 0.99215686, 0.99215686, 0.99215686,\n",
       "        0.77647059, 0.31764706, 0.00784314, 0.        , 0.        ,\n",
       "        0.        , 0.        , 0.        , 0.        , 0.        ,\n",
       "        0.        , 0.        , 0.        ],\n",
       "       [0.        , 0.        , 0.        , 0.        , 0.        ,\n",
       "        0.        , 0.07058824, 0.67058824, 0.85882353, 0.99215686,\n",
       "        0.99215686, 0.99215686, 0.99215686, 0.76470588, 0.31372549,\n",
       "        0.03529412, 0.        , 0.        , 0.        , 0.        ,\n",
       "        0.        , 0.        , 0.        , 0.        , 0.        ,\n",
       "        0.        , 0.        , 0.        ],\n",
       "       [0.        , 0.        , 0.        , 0.        , 0.21568627,\n",
       "        0.6745098 , 0.88627451, 0.99215686, 0.99215686, 0.99215686,\n",
       "        0.99215686, 0.95686275, 0.52156863, 0.04313725, 0.        ,\n",
       "        0.        , 0.        , 0.        , 0.        , 0.        ,\n",
       "        0.        , 0.        , 0.        , 0.        , 0.        ,\n",
       "        0.        , 0.        , 0.        ],\n",
       "       [0.        , 0.        , 0.        , 0.        , 0.53333333,\n",
       "        0.99215686, 0.99215686, 0.99215686, 0.83137255, 0.52941176,\n",
       "        0.51764706, 0.0627451 , 0.        , 0.        , 0.        ,\n",
       "        0.        , 0.        , 0.        , 0.        , 0.        ,\n",
       "        0.        , 0.        , 0.        , 0.        , 0.        ,\n",
       "        0.        , 0.        , 0.        ],\n",
       "       [0.        , 0.        , 0.        , 0.        , 0.        ,\n",
       "        0.        , 0.        , 0.        , 0.        , 0.        ,\n",
       "        0.        , 0.        , 0.        , 0.        , 0.        ,\n",
       "        0.        , 0.        , 0.        , 0.        , 0.        ,\n",
       "        0.        , 0.        , 0.        , 0.        , 0.        ,\n",
       "        0.        , 0.        , 0.        ],\n",
       "       [0.        , 0.        , 0.        , 0.        , 0.        ,\n",
       "        0.        , 0.        , 0.        , 0.        , 0.        ,\n",
       "        0.        , 0.        , 0.        , 0.        , 0.        ,\n",
       "        0.        , 0.        , 0.        , 0.        , 0.        ,\n",
       "        0.        , 0.        , 0.        , 0.        , 0.        ,\n",
       "        0.        , 0.        , 0.        ],\n",
       "       [0.        , 0.        , 0.        , 0.        , 0.        ,\n",
       "        0.        , 0.        , 0.        , 0.        , 0.        ,\n",
       "        0.        , 0.        , 0.        , 0.        , 0.        ,\n",
       "        0.        , 0.        , 0.        , 0.        , 0.        ,\n",
       "        0.        , 0.        , 0.        , 0.        , 0.        ,\n",
       "        0.        , 0.        , 0.        ]])"
      ]
     },
     "execution_count": 8,
     "metadata": {},
     "output_type": "execute_result"
    }
   ],
   "source": [
    "x_train[0]"
   ]
  },
  {
   "cell_type": "code",
   "execution_count": 141,
   "id": "c473af1c",
   "metadata": {},
   "outputs": [],
   "source": [
    "#scenario 1"
   ]
  },
  {
   "cell_type": "code",
   "execution_count": 142,
   "id": "27950e91",
   "metadata": {},
   "outputs": [],
   "source": [
    "model = Sequential()\n",
    "model.add(Flatten(input_shape=(28,28)))\n",
    "model.add(Dense(128,activation=\"sigmoid\"))\n",
    "model.add(Dense(32,activation=\"sigmoid\"))\n",
    "model.add(Dense(10,activation=\"softmax\"))"
   ]
  },
  {
   "cell_type": "code",
   "execution_count": 143,
   "id": "1fafece0",
   "metadata": {},
   "outputs": [
    {
     "name": "stdout",
     "output_type": "stream",
     "text": [
      "Model: \"sequential_20\"\n",
      "_________________________________________________________________\n",
      " Layer (type)                Output Shape              Param #   \n",
      "=================================================================\n",
      " flatten_20 (Flatten)        (None, 784)               0         \n",
      "                                                                 \n",
      " dense_60 (Dense)            (None, 128)               100480    \n",
      "                                                                 \n",
      " dense_61 (Dense)            (None, 32)                4128      \n",
      "                                                                 \n",
      " dense_62 (Dense)            (None, 10)                330       \n",
      "                                                                 \n",
      "=================================================================\n",
      "Total params: 104938 (409.91 KB)\n",
      "Trainable params: 104938 (409.91 KB)\n",
      "Non-trainable params: 0 (0.00 Byte)\n",
      "_________________________________________________________________\n"
     ]
    }
   ],
   "source": [
    "model.summary()"
   ]
  },
  {
   "cell_type": "code",
   "execution_count": 144,
   "id": "ce2a7ee8",
   "metadata": {},
   "outputs": [],
   "source": [
    "model.compile(loss=\"sparse_categorical_crossentropy\",optimizer=\"Adagrad\",metrics=['accuracy'])"
   ]
  },
  {
   "cell_type": "code",
   "execution_count": 145,
   "id": "b2187c54",
   "metadata": {},
   "outputs": [
    {
     "data": {
      "text/plain": [
       "{'name': 'Adagrad',\n",
       " 'weight_decay': None,\n",
       " 'clipnorm': None,\n",
       " 'global_clipnorm': None,\n",
       " 'clipvalue': None,\n",
       " 'use_ema': False,\n",
       " 'ema_momentum': 0.99,\n",
       " 'ema_overwrite_frequency': None,\n",
       " 'jit_compile': False,\n",
       " 'is_legacy_optimizer': False,\n",
       " 'learning_rate': 0.001,\n",
       " 'initial_accumulator_value': 0.1,\n",
       " 'epsilon': 1e-07}"
      ]
     },
     "execution_count": 145,
     "metadata": {},
     "output_type": "execute_result"
    }
   ],
   "source": [
    "model.optimizer.get_config()"
   ]
  },
  {
   "cell_type": "code",
   "execution_count": 146,
   "id": "e770acab",
   "metadata": {},
   "outputs": [
    {
     "name": "stdout",
     "output_type": "stream",
     "text": [
      "Epoch 1/24\n",
      "1313/1313 [==============================] - 2s 2ms/step - loss: 2.3132 - accuracy: 0.1391 - val_loss: 2.2694 - val_accuracy: 0.2831\n",
      "Epoch 2/24\n",
      "1313/1313 [==============================] - 2s 1ms/step - loss: 2.2512 - accuracy: 0.2905 - val_loss: 2.2333 - val_accuracy: 0.3406\n",
      "Epoch 3/24\n",
      "1313/1313 [==============================] - 2s 1ms/step - loss: 2.2156 - accuracy: 0.3852 - val_loss: 2.1963 - val_accuracy: 0.4078\n",
      "Epoch 4/24\n",
      "1313/1313 [==============================] - 2s 1ms/step - loss: 2.1768 - accuracy: 0.4466 - val_loss: 2.1549 - val_accuracy: 0.4707\n",
      "Epoch 5/24\n",
      "1313/1313 [==============================] - 2s 1ms/step - loss: 2.1341 - accuracy: 0.4830 - val_loss: 2.1098 - val_accuracy: 0.5099\n",
      "Epoch 6/24\n",
      "1313/1313 [==============================] - 2s 1ms/step - loss: 2.0879 - accuracy: 0.5073 - val_loss: 2.0613 - val_accuracy: 0.5314\n",
      "Epoch 7/24\n",
      "1313/1313 [==============================] - 2s 1ms/step - loss: 2.0388 - accuracy: 0.5265 - val_loss: 2.0103 - val_accuracy: 0.5404\n",
      "Epoch 8/24\n",
      "1313/1313 [==============================] - 2s 1ms/step - loss: 1.9874 - accuracy: 0.5375 - val_loss: 1.9574 - val_accuracy: 0.5507\n",
      "Epoch 9/24\n",
      "1313/1313 [==============================] - 2s 1ms/step - loss: 1.9346 - accuracy: 0.5466 - val_loss: 1.9037 - val_accuracy: 0.5591\n",
      "Epoch 10/24\n",
      "1313/1313 [==============================] - 2s 1ms/step - loss: 1.8815 - accuracy: 0.5564 - val_loss: 1.8500 - val_accuracy: 0.5727\n",
      "Epoch 11/24\n",
      "1313/1313 [==============================] - 2s 1ms/step - loss: 1.8290 - accuracy: 0.5657 - val_loss: 1.7975 - val_accuracy: 0.5826\n",
      "Epoch 12/24\n",
      "1313/1313 [==============================] - 2s 1ms/step - loss: 1.7778 - accuracy: 0.5768 - val_loss: 1.7466 - val_accuracy: 0.5895\n",
      "Epoch 13/24\n",
      "1313/1313 [==============================] - 2s 1ms/step - loss: 1.7286 - accuracy: 0.5828 - val_loss: 1.6980 - val_accuracy: 0.6006\n",
      "Epoch 14/24\n",
      "1313/1313 [==============================] - 2s 1ms/step - loss: 1.6819 - accuracy: 0.5931 - val_loss: 1.6520 - val_accuracy: 0.6097\n",
      "Epoch 15/24\n",
      "1313/1313 [==============================] - 2s 1ms/step - loss: 1.6376 - accuracy: 0.6065 - val_loss: 1.6087 - val_accuracy: 0.6157\n",
      "Epoch 16/24\n",
      "1313/1313 [==============================] - 2s 1ms/step - loss: 1.5960 - accuracy: 0.6134 - val_loss: 1.5680 - val_accuracy: 0.6264\n",
      "Epoch 17/24\n",
      "1313/1313 [==============================] - 2s 1ms/step - loss: 1.5568 - accuracy: 0.6229 - val_loss: 1.5297 - val_accuracy: 0.6341\n",
      "Epoch 18/24\n",
      "1313/1313 [==============================] - 2s 1ms/step - loss: 1.5201 - accuracy: 0.6331 - val_loss: 1.4939 - val_accuracy: 0.6424\n",
      "Epoch 19/24\n",
      "1313/1313 [==============================] - 2s 1ms/step - loss: 1.4856 - accuracy: 0.6389 - val_loss: 1.4603 - val_accuracy: 0.6524\n",
      "Epoch 20/24\n",
      "1313/1313 [==============================] - 2s 1ms/step - loss: 1.4533 - accuracy: 0.6482 - val_loss: 1.4287 - val_accuracy: 0.6608\n",
      "Epoch 21/24\n",
      "1313/1313 [==============================] - 2s 1ms/step - loss: 1.4228 - accuracy: 0.6566 - val_loss: 1.3989 - val_accuracy: 0.6666\n",
      "Epoch 22/24\n",
      "1313/1313 [==============================] - 2s 1ms/step - loss: 1.3941 - accuracy: 0.6633 - val_loss: 1.3709 - val_accuracy: 0.6739\n",
      "Epoch 23/24\n",
      "1313/1313 [==============================] - 2s 1ms/step - loss: 1.3671 - accuracy: 0.6705 - val_loss: 1.3444 - val_accuracy: 0.6796\n",
      "Epoch 24/24\n",
      "1313/1313 [==============================] - 2s 1ms/step - loss: 1.3415 - accuracy: 0.6775 - val_loss: 1.3194 - val_accuracy: 0.6869\n",
      "313/313 [==============================] - 0s 702us/step\n"
     ]
    }
   ],
   "source": [
    "history1 =model.fit(x_train,y_train,epochs=24,validation_split=0.3)\n",
    "y_prob = model.predict(x_test)\n",
    "y_pred = y_prob.argmax(axis=1)"
   ]
  },
  {
   "cell_type": "code",
   "execution_count": 147,
   "id": "a11b9402",
   "metadata": {},
   "outputs": [
    {
     "name": "stdout",
     "output_type": "stream",
     "text": [
      "0.6849\n"
     ]
    }
   ],
   "source": [
    "from sklearn.metrics import accuracy_score\n",
    "a1=accuracy_score(y_test,y_pred)\n",
    "print(a1)"
   ]
  },
  {
   "cell_type": "code",
   "execution_count": 148,
   "id": "0acae7a9",
   "metadata": {},
   "outputs": [
    {
     "data": {
      "text/plain": [
       "[<matplotlib.lines.Line2D at 0x178806310a0>]"
      ]
     },
     "execution_count": 148,
     "metadata": {},
     "output_type": "execute_result"
    },
    {
     "data": {
      "image/png": "[encoded data removed]",
      "text/plain": [
       "<Figure size 432x288 with 1 Axes>"
      ]
     },
     "metadata": {
      "needs_background": "light"
     },
     "output_type": "display_data"
    }
   ],
   "source": [
    "plt.plot(history1.history[\"loss\"])"
   ]
  },
  {
   "cell_type": "code",
   "execution_count": 149,
   "id": "c7f03bbc",
   "metadata": {},
   "outputs": [
    {
     "data": {
      "text/plain": [
       "[<matplotlib.lines.Line2D at 0x17880680bb0>]"
      ]
     },
     "execution_count": 149,
     "metadata": {},
     "output_type": "execute_result"
    },
    {
     "data": {
      "image/png": "[encoded data removed]",
      "text/plain": [
       "<Figure size 432x288 with 1 Axes>"
      ]
     },
     "metadata": {
      "needs_background": "light"
     },
     "output_type": "display_data"
    }
   ],
   "source": [
    "plt.plot(history.history[\"val_loss\"])"
   ]
  },
  {
   "cell_type": "code",
   "execution_count": 150,
   "id": "2c3044a6",
   "metadata": {},
   "outputs": [
    {
     "data": {
      "text/plain": [
       "[<matplotlib.lines.Line2D at 0x178806eb220>]"
      ]
     },
     "execution_count": 150,
     "metadata": {},
     "output_type": "execute_result"
    },
    {
     "data": {
      "image/png": "[encoded data removed]",
      "text/plain": [
       "<Figure size 432x288 with 1 Axes>"
      ]
     },
     "metadata": {
      "needs_background": "light"
     },
     "output_type": "display_data"
    }
   ],
   "source": [
    "plt.plot(history.history[\"accuracy\"])"
   ]
  },
  {
   "cell_type": "code",
   "execution_count": 151,
   "id": "77895b48",
   "metadata": {},
   "outputs": [
    {
     "data": {
      "text/plain": [
       "[<matplotlib.lines.Line2D at 0x17880747eb0>]"
      ]
     },
     "execution_count": 151,
     "metadata": {},
     "output_type": "execute_result"
    },
    {
     "data": {
      "image/png": "[encoded data removed]",
      "text/plain": [
       "<Figure size 432x288 with 1 Axes>"
      ]
     },
     "metadata": {
      "needs_background": "light"
     },
     "output_type": "display_data"
    }
   ],
   "source": [
    "plt.plot(history.history[\"val_accuracy\"])"
   ]
  },
  {
   "cell_type": "code",
   "execution_count": 152,
   "id": "25e2e1ef",
   "metadata": {},
   "outputs": [],
   "source": [
    "#scenario 2"
   ]
  },
  {
   "cell_type": "code",
   "execution_count": 153,
   "id": "ca5fb3b5",
   "metadata": {},
   "outputs": [],
   "source": [
    "model = Sequential()\n",
    "model.add(Flatten(input_shape=(28,28)))\n",
    "model.add(Dense(128,activation=\"relu\"))\n",
    "model.add(Dense(32,activation=\"relu\"))\n",
    "model.add(Dense(10,activation=\"softmax\"))"
   ]
  },
  {
   "cell_type": "code",
   "execution_count": 154,
   "id": "ef3ecc6d",
   "metadata": {},
   "outputs": [
    {
     "name": "stdout",
     "output_type": "stream",
     "text": [
      "Model: \"sequential_21\"\n",
      "_________________________________________________________________\n",
      " Layer (type)                Output Shape              Param #   \n",
      "=================================================================\n",
      " flatten_21 (Flatten)        (None, 784)               0         \n",
      "                                                                 \n",
      " dense_63 (Dense)            (None, 128)               100480    \n",
      "                                                                 \n",
      " dense_64 (Dense)            (None, 32)                4128      \n",
      "                                                                 \n",
      " dense_65 (Dense)            (None, 10)                330       \n",
      "                                                                 \n",
      "=================================================================\n",
      "Total params: 104938 (409.91 KB)\n",
      "Trainable params: 104938 (409.91 KB)\n",
      "Non-trainable params: 0 (0.00 Byte)\n",
      "_________________________________________________________________\n"
     ]
    }
   ],
   "source": [
    "model.summary()"
   ]
  },
  {
   "cell_type": "code",
   "execution_count": 155,
   "id": "6d25132d",
   "metadata": {},
   "outputs": [],
   "source": [
    "model.compile(loss=\"sparse_categorical_crossentropy\",optimizer=\"Adam\",metrics=['accuracy'])"
   ]
  },
  {
   "cell_type": "code",
   "execution_count": 156,
   "id": "95698bc3",
   "metadata": {},
   "outputs": [
    {
     "data": {
      "text/plain": [
       "{'name': 'Adam',\n",
       " 'weight_decay': None,\n",
       " 'clipnorm': None,\n",
       " 'global_clipnorm': None,\n",
       " 'clipvalue': None,\n",
       " 'use_ema': False,\n",
       " 'ema_momentum': 0.99,\n",
       " 'ema_overwrite_frequency': None,\n",
       " 'jit_compile': False,\n",
       " 'is_legacy_optimizer': False,\n",
       " 'learning_rate': 0.001,\n",
       " 'beta_1': 0.9,\n",
       " 'beta_2': 0.999,\n",
       " 'epsilon': 1e-07,\n",
       " 'amsgrad': False}"
      ]
     },
     "execution_count": 156,
     "metadata": {},
     "output_type": "execute_result"
    }
   ],
   "source": [
    "model.optimizer.get_config()"
   ]
  },
  {
   "cell_type": "code",
   "execution_count": 157,
   "id": "56ec3558",
   "metadata": {},
   "outputs": [
    {
     "name": "stdout",
     "output_type": "stream",
     "text": [
      "Epoch 1/25\n",
      "1500/1500 [==============================] - 3s 2ms/step - loss: 0.2799 - accuracy: 0.9183 - val_loss: 0.1445 - val_accuracy: 0.9589\n",
      "Epoch 2/25\n",
      "1500/1500 [==============================] - 2s 1ms/step - loss: 0.1161 - accuracy: 0.9652 - val_loss: 0.1138 - val_accuracy: 0.9646\n",
      "Epoch 3/25\n",
      "1500/1500 [==============================] - 2s 1ms/step - loss: 0.0787 - accuracy: 0.9757 - val_loss: 0.1148 - val_accuracy: 0.9682\n",
      "Epoch 4/25\n",
      "1500/1500 [==============================] - 2s 1ms/step - loss: 0.0611 - accuracy: 0.9808 - val_loss: 0.0941 - val_accuracy: 0.9748\n",
      "Epoch 5/25\n",
      "1500/1500 [==============================] - 2s 1ms/step - loss: 0.0467 - accuracy: 0.9847 - val_loss: 0.0978 - val_accuracy: 0.9734\n",
      "Epoch 6/25\n",
      "1500/1500 [==============================] - 2s 1ms/step - loss: 0.0362 - accuracy: 0.9886 - val_loss: 0.1091 - val_accuracy: 0.9718\n",
      "Epoch 7/25\n",
      "1500/1500 [==============================] - 2s 1ms/step - loss: 0.0307 - accuracy: 0.9897 - val_loss: 0.1004 - val_accuracy: 0.9749\n",
      "Epoch 8/25\n",
      "1500/1500 [==============================] - 2s 1ms/step - loss: 0.0262 - accuracy: 0.9911 - val_loss: 0.1297 - val_accuracy: 0.9688\n",
      "Epoch 9/25\n",
      "1500/1500 [==============================] - 2s 1ms/step - loss: 0.0200 - accuracy: 0.9936 - val_loss: 0.1024 - val_accuracy: 0.9758\n",
      "Epoch 10/25\n",
      "1500/1500 [==============================] - 2s 1ms/step - loss: 0.0199 - accuracy: 0.9935 - val_loss: 0.1231 - val_accuracy: 0.9737\n",
      "Epoch 11/25\n",
      "1500/1500 [==============================] - 2s 1ms/step - loss: 0.0168 - accuracy: 0.9941 - val_loss: 0.1215 - val_accuracy: 0.9763\n",
      "Epoch 12/25\n",
      "1500/1500 [==============================] - 2s 1ms/step - loss: 0.0153 - accuracy: 0.9949 - val_loss: 0.1314 - val_accuracy: 0.9718\n",
      "Epoch 13/25\n",
      "1500/1500 [==============================] - 2s 1ms/step - loss: 0.0134 - accuracy: 0.9951 - val_loss: 0.1279 - val_accuracy: 0.9758\n",
      "Epoch 14/25\n",
      "1500/1500 [==============================] - 2s 1ms/step - loss: 0.0135 - accuracy: 0.9952 - val_loss: 0.1165 - val_accuracy: 0.9764\n",
      "Epoch 15/25\n",
      "1500/1500 [==============================] - 2s 1ms/step - loss: 0.0118 - accuracy: 0.9957 - val_loss: 0.1495 - val_accuracy: 0.9703\n",
      "Epoch 16/25\n",
      "1500/1500 [==============================] - 2s 1ms/step - loss: 0.0112 - accuracy: 0.9964 - val_loss: 0.1348 - val_accuracy: 0.9751\n",
      "Epoch 17/25\n",
      "1500/1500 [==============================] - 2s 1ms/step - loss: 0.0108 - accuracy: 0.9964 - val_loss: 0.1528 - val_accuracy: 0.9742\n",
      "Epoch 18/25\n",
      "1500/1500 [==============================] - 2s 1ms/step - loss: 0.0087 - accuracy: 0.9971 - val_loss: 0.1330 - val_accuracy: 0.9754\n",
      "Epoch 19/25\n",
      "1500/1500 [==============================] - 2s 1ms/step - loss: 0.0108 - accuracy: 0.9965 - val_loss: 0.1335 - val_accuracy: 0.9757\n",
      "Epoch 20/25\n",
      "1500/1500 [==============================] - 2s 1ms/step - loss: 0.0120 - accuracy: 0.9962 - val_loss: 0.1424 - val_accuracy: 0.9769\n",
      "Epoch 21/25\n",
      "1500/1500 [==============================] - 2s 1ms/step - loss: 0.0078 - accuracy: 0.9975 - val_loss: 0.1654 - val_accuracy: 0.9743\n",
      "Epoch 22/25\n",
      "1500/1500 [==============================] - 2s 1ms/step - loss: 0.0080 - accuracy: 0.9973 - val_loss: 0.1529 - val_accuracy: 0.9765\n",
      "Epoch 23/25\n",
      "1500/1500 [==============================] - 2s 1ms/step - loss: 0.0099 - accuracy: 0.9965 - val_loss: 0.1552 - val_accuracy: 0.9764\n",
      "Epoch 24/25\n",
      "1500/1500 [==============================] - 2s 1ms/step - loss: 0.0081 - accuracy: 0.9971 - val_loss: 0.1727 - val_accuracy: 0.9758\n",
      "Epoch 25/25\n",
      "1500/1500 [==============================] - 2s 1ms/step - loss: 0.0088 - accuracy: 0.9971 - val_loss: 0.1759 - val_accuracy: 0.9757\n",
      "313/313 [==============================] - 0s 728us/step\n"
     ]
    }
   ],
   "source": [
    "history2 =model.fit(x_train,y_train,epochs=25,validation_split=0.2)\n",
    "y_prob = model.predict(x_test)\n",
    "y_pred = y_prob.argmax(axis=1)"
   ]
  },
  {
   "cell_type": "code",
   "execution_count": 158,
   "id": "b0f080d2",
   "metadata": {},
   "outputs": [
    {
     "name": "stdout",
     "output_type": "stream",
     "text": [
      "0.9761\n"
     ]
    }
   ],
   "source": [
    "from sklearn.metrics import accuracy_score\n",
    "a2=accuracy_score(y_test,y_pred)\n",
    "print(a2)"
   ]
  },
  {
   "cell_type": "code",
   "execution_count": 159,
   "id": "4a31b0de",
   "metadata": {},
   "outputs": [
    {
     "data": {
      "text/plain": [
       "[<matplotlib.lines.Line2D at 0x178580ff670>]"
      ]
     },
     "execution_count": 159,
     "metadata": {},
     "output_type": "execute_result"
    },
    {
     "data": {
      "image/png": "[encoded data removed]",
      "text/plain": [
       "<Figure size 432x288 with 1 Axes>"
      ]
     },
     "metadata": {
      "needs_background": "light"
     },
     "output_type": "display_data"
    }
   ],
   "source": [
    "plt.plot(history2.history[\"loss\"])"
   ]
  },
  {
   "cell_type": "code",
   "execution_count": 160,
   "id": "4ab5fcc1",
   "metadata": {},
   "outputs": [
    {
     "data": {
      "text/plain": [
       "[<matplotlib.lines.Line2D at 0x1781cc27fd0>]"
      ]
     },
     "execution_count": 160,
     "metadata": {},
     "output_type": "execute_result"
    },
    {
     "data": {
      "image/png": "[encoded data removed]",
      "text/plain": [
       "<Figure size 432x288 with 1 Axes>"
      ]
     },
     "metadata": {
      "needs_background": "light"
     },
     "output_type": "display_data"
    }
   ],
   "source": [
    "plt.plot(history2.history[\"val_loss\"])"
   ]
  },
  {
   "cell_type": "code",
   "execution_count": 161,
   "id": "9cd3833e",
   "metadata": {},
   "outputs": [
    {
     "data": {
      "text/plain": [
       "[<matplotlib.lines.Line2D at 0x17809295310>]"
      ]
     },
     "execution_count": 161,
     "metadata": {},
     "output_type": "execute_result"
    },
    {
     "data": {
      "image/png": "[encoded data removed]",
      "text/plain": [
       "<Figure size 432x288 with 1 Axes>"
      ]
     },
     "metadata": {
      "needs_background": "light"
     },
     "output_type": "display_data"
    }
   ],
   "source": [
    "plt.plot(history2.history[\"accuracy\"])"
   ]
  },
  {
   "cell_type": "code",
   "execution_count": 162,
   "id": "f82311e3",
   "metadata": {},
   "outputs": [
    {
     "data": {
      "text/plain": [
       "[<matplotlib.lines.Line2D at 0x1788486ecd0>]"
      ]
     },
     "execution_count": 162,
     "metadata": {},
     "output_type": "execute_result"
    },
    {
     "data": {
      "image/png": "[encoded data removed]",
      "text/plain": [
       "<Figure size 432x288 with 1 Axes>"
      ]
     },
     "metadata": {
      "needs_background": "light"
     },
     "output_type": "display_data"
    }
   ],
   "source": [
    "plt.plot(history2.history[\"val_accuracy\"])"
   ]
  },
  {
   "cell_type": "code",
   "execution_count": 163,
   "id": "44dbd68a",
   "metadata": {},
   "outputs": [],
   "source": [
    "#scenario 3"
   ]
  },
  {
   "cell_type": "code",
   "execution_count": 164,
   "id": "7cae1ade",
   "metadata": {},
   "outputs": [],
   "source": [
    "model = Sequential()\n",
    "model.add(Flatten(input_shape=(28,28)))\n",
    "model.add(Dense(128,activation=\"tanh\"))\n",
    "model.add(Dense(32,activation=\"tanh\"))\n",
    "model.add(Dense(10,activation=\"softmax\"))"
   ]
  },
  {
   "cell_type": "code",
   "execution_count": 165,
   "id": "b9c18cd2",
   "metadata": {},
   "outputs": [
    {
     "name": "stdout",
     "output_type": "stream",
     "text": [
      "Model: \"sequential_22\"\n",
      "_________________________________________________________________\n",
      " Layer (type)                Output Shape              Param #   \n",
      "=================================================================\n",
      " flatten_22 (Flatten)        (None, 784)               0         \n",
      "                                                                 \n",
      " dense_66 (Dense)            (None, 128)               100480    \n",
      "                                                                 \n",
      " dense_67 (Dense)            (None, 32)                4128      \n",
      "                                                                 \n",
      " dense_68 (Dense)            (None, 10)                330       \n",
      "                                                                 \n",
      "=================================================================\n",
      "Total params: 104938 (409.91 KB)\n",
      "Trainable params: 104938 (409.91 KB)\n",
      "Non-trainable params: 0 (0.00 Byte)\n",
      "_________________________________________________________________\n"
     ]
    }
   ],
   "source": [
    "model.summary()"
   ]
  },
  {
   "cell_type": "code",
   "execution_count": 166,
   "id": "d0035b70",
   "metadata": {},
   "outputs": [],
   "source": [
    "model.compile(loss=\"sparse_categorical_crossentropy\",optimizer=\"Adadelta\",metrics=['accuracy'])"
   ]
  },
  {
   "cell_type": "code",
   "execution_count": 167,
   "id": "3ed3e7f5",
   "metadata": {},
   "outputs": [
    {
     "data": {
      "text/plain": [
       "{'name': 'Adadelta',\n",
       " 'weight_decay': None,\n",
       " 'clipnorm': None,\n",
       " 'global_clipnorm': None,\n",
       " 'clipvalue': None,\n",
       " 'use_ema': False,\n",
       " 'ema_momentum': 0.99,\n",
       " 'ema_overwrite_frequency': None,\n",
       " 'jit_compile': False,\n",
       " 'is_legacy_optimizer': False,\n",
       " 'learning_rate': 0.001,\n",
       " 'rho': 0.95,\n",
       " 'epsilon': 1e-07}"
      ]
     },
     "execution_count": 167,
     "metadata": {},
     "output_type": "execute_result"
    }
   ],
   "source": [
    "model.optimizer.get_config()"
   ]
  },
  {
   "cell_type": "code",
   "execution_count": 168,
   "id": "7e8982cc",
   "metadata": {},
   "outputs": [
    {
     "name": "stdout",
     "output_type": "stream",
     "text": [
      "Epoch 1/21\n",
      "1688/1688 [==============================] - 3s 1ms/step - loss: 2.2161 - accuracy: 0.1963 - val_loss: 2.0890 - val_accuracy: 0.2725\n",
      "Epoch 2/21\n",
      "1688/1688 [==============================] - 2s 1ms/step - loss: 1.9755 - accuracy: 0.3636 - val_loss: 1.8574 - val_accuracy: 0.4528\n",
      "Epoch 3/21\n",
      "1688/1688 [==============================] - 2s 1ms/step - loss: 1.7760 - accuracy: 0.5126 - val_loss: 1.6650 - val_accuracy: 0.5862\n",
      "Epoch 4/21\n",
      "1688/1688 [==============================] - 2s 1ms/step - loss: 1.6111 - accuracy: 0.6125 - val_loss: 1.5064 - val_accuracy: 0.6630\n",
      "Epoch 5/21\n",
      "1688/1688 [==============================] - 2s 1ms/step - loss: 1.4744 - accuracy: 0.6705 - val_loss: 1.3755 - val_accuracy: 0.7182\n",
      "Epoch 6/21\n",
      "1688/1688 [==============================] - 2s 1ms/step - loss: 1.3610 - accuracy: 0.7079 - val_loss: 1.2670 - val_accuracy: 0.7565\n",
      "Epoch 7/21\n",
      "1688/1688 [==============================] - 2s 1ms/step - loss: 1.2668 - accuracy: 0.7352 - val_loss: 1.1773 - val_accuracy: 0.7785\n",
      "Epoch 8/21\n",
      "1688/1688 [==============================] - 2s 1ms/step - loss: 1.1888 - accuracy: 0.7553 - val_loss: 1.1022 - val_accuracy: 0.7993\n",
      "Epoch 9/21\n",
      "1688/1688 [==============================] - 2s 1ms/step - loss: 1.1224 - accuracy: 0.7711 - val_loss: 1.0382 - val_accuracy: 0.8138\n",
      "Epoch 10/21\n",
      "1688/1688 [==============================] - 2s 1ms/step - loss: 1.0657 - accuracy: 0.7845 - val_loss: 0.9833 - val_accuracy: 0.8255\n",
      "Epoch 11/21\n",
      "1688/1688 [==============================] - 2s 1ms/step - loss: 1.0166 - accuracy: 0.7949 - val_loss: 0.9354 - val_accuracy: 0.8367\n",
      "Epoch 12/21\n",
      "1688/1688 [==============================] - 2s 1ms/step - loss: 0.9736 - accuracy: 0.8048 - val_loss: 0.8933 - val_accuracy: 0.8463\n",
      "Epoch 13/21\n",
      "1688/1688 [==============================] - 2s 1ms/step - loss: 0.9356 - accuracy: 0.8119 - val_loss: 0.8562 - val_accuracy: 0.8520\n",
      "Epoch 14/21\n",
      "1688/1688 [==============================] - 2s 1ms/step - loss: 0.9017 - accuracy: 0.8194 - val_loss: 0.8229 - val_accuracy: 0.8580\n",
      "Epoch 15/21\n",
      "1688/1688 [==============================] - 2s 1ms/step - loss: 0.8712 - accuracy: 0.8253 - val_loss: 0.7928 - val_accuracy: 0.8657\n",
      "Epoch 16/21\n",
      "1688/1688 [==============================] - 2s 1ms/step - loss: 0.8437 - accuracy: 0.8316 - val_loss: 0.7657 - val_accuracy: 0.8705\n",
      "Epoch 17/21\n",
      "1688/1688 [==============================] - 2s 1ms/step - loss: 0.8186 - accuracy: 0.8362 - val_loss: 0.7410 - val_accuracy: 0.8742\n",
      "Epoch 18/21\n",
      "1688/1688 [==============================] - 2s 1ms/step - loss: 0.7956 - accuracy: 0.8401 - val_loss: 0.7183 - val_accuracy: 0.8765\n",
      "Epoch 19/21\n",
      "1688/1688 [==============================] - 2s 1ms/step - loss: 0.7744 - accuracy: 0.8439 - val_loss: 0.6974 - val_accuracy: 0.8795\n",
      "Epoch 20/21\n",
      "1688/1688 [==============================] - 2s 1ms/step - loss: 0.7548 - accuracy: 0.8472 - val_loss: 0.6781 - val_accuracy: 0.8832\n",
      "Epoch 21/21\n",
      "1688/1688 [==============================] - 2s 1ms/step - loss: 0.7368 - accuracy: 0.8506 - val_loss: 0.6603 - val_accuracy: 0.8858\n",
      "313/313 [==============================] - 0s 722us/step\n"
     ]
    }
   ],
   "source": [
    "history3 =model.fit(x_train,y_train,epochs=21,validation_split=0.1)\n",
    "y_prob = model.predict(x_test)\n",
    "y_pred = y_prob.argmax(axis=1)"
   ]
  },
  {
   "cell_type": "code",
   "execution_count": 169,
   "id": "53d9f586",
   "metadata": {},
   "outputs": [
    {
     "name": "stdout",
     "output_type": "stream",
     "text": [
      "0.8633\n"
     ]
    }
   ],
   "source": [
    "from sklearn.metrics import accuracy_score\n",
    "a3=accuracy_score(y_test,y_pred)\n",
    "print(a3)"
   ]
  },
  {
   "cell_type": "code",
   "execution_count": 170,
   "id": "4edc7e34",
   "metadata": {},
   "outputs": [
    {
     "data": {
      "text/plain": [
       "[<matplotlib.lines.Line2D at 0x1780950a5e0>]"
      ]
     },
     "execution_count": 170,
     "metadata": {},
     "output_type": "execute_result"
    },
    {
     "data": {
      "image/png": "[encoded data removed]",
      "text/plain": [
       "<Figure size 432x288 with 1 Axes>"
      ]
     },
     "metadata": {
      "needs_background": "light"
     },
     "output_type": "display_data"
    }
   ],
   "source": [
    "plt.plot(history3.history[\"loss\"])"
   ]
  },
  {
   "cell_type": "code",
   "execution_count": 171,
   "id": "f4296ea7",
   "metadata": {},
   "outputs": [
    {
     "data": {
      "text/plain": [
       "[<matplotlib.lines.Line2D at 0x17801bdb580>]"
      ]
     },
     "execution_count": 171,
     "metadata": {},
     "output_type": "execute_result"
    },
    {
     "data": {
      "image/png": "[encoded data removed]",
      "text/plain": [
       "<Figure size 432x288 with 1 Axes>"
      ]
     },
     "metadata": {
      "needs_background": "light"
     },
     "output_type": "display_data"
    }
   ],
   "source": [
    "plt.plot(history3.history[\"val_loss\"])"
   ]
  },
  {
   "cell_type": "code",
   "execution_count": 172,
   "id": "17336169",
   "metadata": {},
   "outputs": [
    {
     "data": {
      "text/plain": [
       "[<matplotlib.lines.Line2D at 0x17858008610>]"
      ]
     },
     "execution_count": 172,
     "metadata": {},
     "output_type": "execute_result"
    },
    {
     "data": {
      "image/png": "[encoded data removed]",
      "text/plain": [
       "<Figure size 432x288 with 1 Axes>"
      ]
     },
     "metadata": {
      "needs_background": "light"
     },
     "output_type": "display_data"
    }
   ],
   "source": [
    "plt.plot(history3.history[\"accuracy\"])"
   ]
  },
  {
   "cell_type": "code",
   "execution_count": 173,
   "id": "45ca79c4",
   "metadata": {},
   "outputs": [
    {
     "data": {
      "text/plain": [
       "[<matplotlib.lines.Line2D at 0x178a392e880>]"
      ]
     },
     "execution_count": 173,
     "metadata": {},
     "output_type": "execute_result"
    },
    {
     "data": {
      "image/png": "[encoded data removed]",
      "text/plain": [
       "<Figure size 432x288 with 1 Axes>"
      ]
     },
     "metadata": {
      "needs_background": "light"
     },
     "output_type": "display_data"
    }
   ],
   "source": [
    "plt.plot(history3.history[\"val_accuracy\"])"
   ]
  },
  {
   "cell_type": "code",
   "execution_count": 174,
   "id": "c820187d",
   "metadata": {},
   "outputs": [],
   "source": [
    "#scenario 4"
   ]
  },
  {
   "cell_type": "code",
   "execution_count": 175,
   "id": "946ada94",
   "metadata": {},
   "outputs": [],
   "source": [
    "model = Sequential()\n",
    "model.add(Flatten(input_shape=(28,28)))\n",
    "model.add(Dense(128,activation=\"sigmoid\"))\n",
    "model.add(Dense(32,activation=\"sigmoid\"))\n",
    "model.add(Dense(10,activation=\"softmax\"))"
   ]
  },
  {
   "cell_type": "code",
   "execution_count": 176,
   "id": "7802af86",
   "metadata": {},
   "outputs": [],
   "source": [
    "model.compile(loss=\"sparse_categorical_crossentropy\",optimizer=\"Adam\",metrics=['accuracy'])"
   ]
  },
  {
   "cell_type": "code",
   "execution_count": 177,
   "id": "2db44c73",
   "metadata": {},
   "outputs": [
    {
     "data": {
      "text/plain": [
       "{'name': 'Adam',\n",
       " 'weight_decay': None,\n",
       " 'clipnorm': None,\n",
       " 'global_clipnorm': None,\n",
       " 'clipvalue': None,\n",
       " 'use_ema': False,\n",
       " 'ema_momentum': 0.99,\n",
       " 'ema_overwrite_frequency': None,\n",
       " 'jit_compile': False,\n",
       " 'is_legacy_optimizer': False,\n",
       " 'learning_rate': 0.001,\n",
       " 'beta_1': 0.9,\n",
       " 'beta_2': 0.999,\n",
       " 'epsilon': 1e-07,\n",
       " 'amsgrad': False}"
      ]
     },
     "execution_count": 177,
     "metadata": {},
     "output_type": "execute_result"
    }
   ],
   "source": [
    "model.optimizer.get_config()"
   ]
  },
  {
   "cell_type": "code",
   "execution_count": 178,
   "id": "0c688837",
   "metadata": {},
   "outputs": [
    {
     "name": "stdout",
     "output_type": "stream",
     "text": [
      "Epoch 1/23\n",
      "1500/1500 [==============================] - 2s 1ms/step - loss: 0.6198 - accuracy: 0.8584 - val_loss: 0.2630 - val_accuracy: 0.9298\n",
      "Epoch 2/23\n",
      "1500/1500 [==============================] - 2s 1ms/step - loss: 0.2241 - accuracy: 0.9368 - val_loss: 0.1803 - val_accuracy: 0.9492\n",
      "Epoch 3/23\n",
      "1500/1500 [==============================] - 2s 1ms/step - loss: 0.1566 - accuracy: 0.9549 - val_loss: 0.1486 - val_accuracy: 0.9582\n",
      "Epoch 4/23\n",
      "1500/1500 [==============================] - 2s 1ms/step - loss: 0.1196 - accuracy: 0.9659 - val_loss: 0.1205 - val_accuracy: 0.9651\n",
      "Epoch 5/23\n",
      "1500/1500 [==============================] - 2s 1ms/step - loss: 0.0955 - accuracy: 0.9729 - val_loss: 0.1143 - val_accuracy: 0.9657\n",
      "Epoch 6/23\n",
      "1500/1500 [==============================] - 2s 1ms/step - loss: 0.0769 - accuracy: 0.9784 - val_loss: 0.1035 - val_accuracy: 0.9705\n",
      "Epoch 7/23\n",
      "1500/1500 [==============================] - 2s 1ms/step - loss: 0.0633 - accuracy: 0.9824 - val_loss: 0.0942 - val_accuracy: 0.9718\n",
      "Epoch 8/23\n",
      "1500/1500 [==============================] - 2s 1ms/step - loss: 0.0510 - accuracy: 0.9860 - val_loss: 0.0937 - val_accuracy: 0.9714\n",
      "Epoch 9/23\n",
      "1500/1500 [==============================] - 2s 1ms/step - loss: 0.0426 - accuracy: 0.9884 - val_loss: 0.0895 - val_accuracy: 0.9741\n",
      "Epoch 10/23\n",
      "1500/1500 [==============================] - 2s 1ms/step - loss: 0.0353 - accuracy: 0.9907 - val_loss: 0.0899 - val_accuracy: 0.9743\n",
      "Epoch 11/23\n",
      "1500/1500 [==============================] - 2s 1ms/step - loss: 0.0285 - accuracy: 0.9929 - val_loss: 0.0859 - val_accuracy: 0.9743\n",
      "Epoch 12/23\n",
      "1500/1500 [==============================] - 2s 1ms/step - loss: 0.0232 - accuracy: 0.9946 - val_loss: 0.0852 - val_accuracy: 0.9755\n",
      "Epoch 13/23\n",
      "1500/1500 [==============================] - 2s 1ms/step - loss: 0.0187 - accuracy: 0.9957 - val_loss: 0.0891 - val_accuracy: 0.9754\n",
      "Epoch 14/23\n",
      "1500/1500 [==============================] - 2s 1ms/step - loss: 0.0150 - accuracy: 0.9968 - val_loss: 0.0919 - val_accuracy: 0.9758\n",
      "Epoch 15/23\n",
      "1500/1500 [==============================] - 2s 1ms/step - loss: 0.0123 - accuracy: 0.9975 - val_loss: 0.1025 - val_accuracy: 0.9728\n",
      "Epoch 16/23\n",
      "1500/1500 [==============================] - 2s 1ms/step - loss: 0.0091 - accuracy: 0.9983 - val_loss: 0.0919 - val_accuracy: 0.9747\n",
      "Epoch 17/23\n",
      "1500/1500 [==============================] - 2s 1ms/step - loss: 0.0080 - accuracy: 0.9987 - val_loss: 0.0917 - val_accuracy: 0.9761\n",
      "Epoch 18/23\n",
      "1500/1500 [==============================] - 2s 1ms/step - loss: 0.0063 - accuracy: 0.9989 - val_loss: 0.0995 - val_accuracy: 0.9746\n",
      "Epoch 19/23\n",
      "1500/1500 [==============================] - 2s 1ms/step - loss: 0.0051 - accuracy: 0.9992 - val_loss: 0.1006 - val_accuracy: 0.9746\n",
      "Epoch 20/23\n",
      "1500/1500 [==============================] - 2s 1ms/step - loss: 0.0044 - accuracy: 0.9994 - val_loss: 0.0999 - val_accuracy: 0.9760\n",
      "Epoch 21/23\n",
      "1500/1500 [==============================] - 2s 1ms/step - loss: 0.0047 - accuracy: 0.9991 - val_loss: 0.1001 - val_accuracy: 0.9767\n",
      "Epoch 22/23\n",
      "1500/1500 [==============================] - 2s 1ms/step - loss: 0.0021 - accuracy: 0.9998 - val_loss: 0.1032 - val_accuracy: 0.9755\n",
      "Epoch 23/23\n",
      "1500/1500 [==============================] - 2s 1ms/step - loss: 0.0033 - accuracy: 0.9995 - val_loss: 0.1109 - val_accuracy: 0.9752\n",
      "313/313 [==============================] - 0s 728us/step\n"
     ]
    }
   ],
   "source": [
    "history4 =model.fit(x_train,y_train,epochs=23,validation_split=0.2)\n",
    "y_prob = model.predict(x_test)\n",
    "y_pred = y_prob.argmax(axis=1)"
   ]
  },
  {
   "cell_type": "code",
   "execution_count": 179,
   "id": "4b42cf48",
   "metadata": {},
   "outputs": [
    {
     "name": "stdout",
     "output_type": "stream",
     "text": [
      "0.9766\n"
     ]
    }
   ],
   "source": [
    "from sklearn.metrics import accuracy_score\n",
    "a4=accuracy_score(y_test,y_pred)\n",
    "print(a4)"
   ]
  },
  {
   "cell_type": "code",
   "execution_count": 180,
   "id": "08940ca8",
   "metadata": {},
   "outputs": [
    {
     "data": {
      "text/plain": [
       "[<matplotlib.lines.Line2D at 0x1780db8b520>]"
      ]
     },
     "execution_count": 180,
     "metadata": {},
     "output_type": "execute_result"
    },
    {
     "data": {
      "image/png": "[encoded data removed]",
      "text/plain": [
       "<Figure size 432x288 with 1 Axes>"
      ]
     },
     "metadata": {
      "needs_background": "light"
     },
     "output_type": "display_data"
    }
   ],
   "source": [
    "plt.plot(history4.history[\"loss\"])"
   ]
  },
  {
   "cell_type": "code",
   "execution_count": 181,
   "id": "259ff263",
   "metadata": {},
   "outputs": [
    {
     "data": {
      "text/plain": [
       "[<matplotlib.lines.Line2D at 0x1780dbd3970>]"
      ]
     },
     "execution_count": 181,
     "metadata": {},
     "output_type": "execute_result"
    },
    {
     "data": {
      "image/png": "[encoded data removed]",
      "text/plain": [
       "<Figure size 432x288 with 1 Axes>"
      ]
     },
     "metadata": {
      "needs_background": "light"
     },
     "output_type": "display_data"
    }
   ],
   "source": [
    "plt.plot(history4.history[\"val_loss\"])"
   ]
  },
  {
   "cell_type": "code",
   "execution_count": 182,
   "id": "158367b3",
   "metadata": {},
   "outputs": [
    {
     "data": {
      "text/plain": [
       "[<matplotlib.lines.Line2D at 0x1780dc3e280>]"
      ]
     },
     "execution_count": 182,
     "metadata": {},
     "output_type": "execute_result"
    },
    {
     "data": {
      "image/png": "[encoded data removed]",
      "text/plain": [
       "<Figure size 432x288 with 1 Axes>"
      ]
     },
     "metadata": {
      "needs_background": "light"
     },
     "output_type": "display_data"
    }
   ],
   "source": [
    "plt.plot(history4.history[\"accuracy\"])"
   ]
  },
  {
   "cell_type": "code",
   "execution_count": 183,
   "id": "08730438",
   "metadata": {},
   "outputs": [
    {
     "data": {
      "text/plain": [
       "[<matplotlib.lines.Line2D at 0x1780dc96d90>]"
      ]
     },
     "execution_count": 183,
     "metadata": {},
     "output_type": "execute_result"
    },
    {
     "data": {
      "image/png": "[encoded data removed]",
      "text/plain": [
       "<Figure size 432x288 with 1 Axes>"
      ]
     },
     "metadata": {
      "needs_background": "light"
     },
     "output_type": "display_data"
    }
   ],
   "source": [
    "plt.plot(history4.history[\"val_accuracy\"])"
   ]
  },
  {
   "cell_type": "code",
   "execution_count": 185,
   "id": "42d75566",
   "metadata": {},
   "outputs": [
    {
     "data": {
      "text/plain": [
       "[<matplotlib.lines.Line2D at 0x1780dd46df0>]"
      ]
     },
     "execution_count": 185,
     "metadata": {},
     "output_type": "execute_result"
    },
    {
     "data": {
      "image/png": "[encoded data removed]",
      "text/plain": [
       "<Figure size 432x288 with 1 Axes>"
      ]
     },
     "metadata": {
      "needs_background": "light"
     },
     "output_type": "display_data"
    }
   ],
   "source": [
    "plt.plot(history1.history[\"loss\"])\n",
    "plt.plot(history2.history[\"loss\"])\n",
    "plt.plot(history3.history[\"loss\"])\n",
    "plt.plot(history4.history[\"loss\"])"
   ]
  },
  {
   "cell_type": "code",
   "execution_count": 186,
   "id": "30518e07",
   "metadata": {},
   "outputs": [
    {
     "data": {
      "text/plain": [
       "[<matplotlib.lines.Line2D at 0x1780ddb49d0>]"
      ]
     },
     "execution_count": 186,
     "metadata": {},
     "output_type": "execute_result"
    },
    {
     "data": {
      "image/png": "[encoded data removed]",
      "text/plain": [
       "<Figure size 432x288 with 1 Axes>"
      ]
     },
     "metadata": {
      "needs_background": "light"
     },
     "output_type": "display_data"
    }
   ],
   "source": [
    "plt.plot(history1.history[\"val_loss\"])\n",
    "plt.plot(history2.history[\"val_loss\"])\n",
    "plt.plot(history3.history[\"val_loss\"])\n",
    "plt.plot(history4.history[\"val_loss\"])"
   ]
  },
  {
   "cell_type": "code",
   "execution_count": 187,
   "id": "9250d38e",
   "metadata": {},
   "outputs": [
    {
     "data": {
      "text/plain": [
       "[<matplotlib.lines.Line2D at 0x1780de22160>]"
      ]
     },
     "execution_count": 187,
     "metadata": {},
     "output_type": "execute_result"
    },
    {
     "data": {
      "image/png": "[encoded data removed]",
      "text/plain": [
       "<Figure size 432x288 with 1 Axes>"
      ]
     },
     "metadata": {
      "needs_background": "light"
     },
     "output_type": "display_data"
    }
   ],
   "source": [
    "plt.plot(history1.history[\"accuracy\"])\n",
    "plt.plot(history2.history[\"accuracy\"])\n",
    "plt.plot(history3.history[\"accuracy\"])\n",
    "plt.plot(history4.history[\"accuracy\"])"
   ]
  },
  {
   "cell_type": "code",
   "execution_count": 188,
   "id": "ca7aee41",
   "metadata": {},
   "outputs": [
    {
     "data": {
      "text/plain": [
       "[<matplotlib.lines.Line2D at 0x1780de81be0>]"
      ]
     },
     "execution_count": 188,
     "metadata": {},
     "output_type": "execute_result"
    },
    {
     "data": {
      "image/png": "[encoded data removed]",
      "text/plain": [
       "<Figure size 432x288 with 1 Axes>"
      ]
     },
     "metadata": {
      "needs_background": "light"
     },
     "output_type": "display_data"
    }
   ],
   "source": [
    "plt.plot(history1.history[\"val_accuracy\"])\n",
    "plt.plot(history2.history[\"val_accuracy\"])\n",
    "plt.plot(history3.history[\"val_accuracy\"])\n",
    "plt.plot(history4.history[\"val_accuracy\"])"
   ]
  },
  {
   "cell_type": "code",
   "execution_count": 190,
   "id": "124a72f1",
   "metadata": {},
   "outputs": [
    {
     "data": {
      "text/plain": [
       "Text(0.5, 1.0, 'Accuracy based on 4 Scenario')"
      ]
     },
     "execution_count": 190,
     "metadata": {},
     "output_type": "execute_result"
    },
    {
     "data": {
      "image/png": "[encoded data removed]",
      "text/plain": [
       "<Figure size 432x288 with 1 Axes>"
      ]
     },
     "metadata": {
      "needs_background": "light"
     },
     "output_type": "display_data"
    }
   ],
   "source": [
    "s=[\"Scenario 1\",\"Scenario 2\",\"Scenario 3\",\"Scenario 4\"]\n",
    "d=[a1,a2,a3,a4]\n",
    "plt.bar(s,d)\n",
    "plt.xlabel('Scenario')\n",
    "plt.ylabel('Accuracy')\n",
    "plt.title(\"Accuracy based on 4 Scenario\")"
   ]
  },
  {
   "cell_type": "code",
   "execution_count": null,
   "id": "5626d4e6",
   "metadata": {},
   "outputs": [],
   "source": []
  }
 ],
 "metadata": {
  "kernelspec": {
   "display_name": "Python 3 (ipykernel)",
   "language": "python",
   "name": "python3"
  },
  "language_info": {
   "codemirror_mode": {
    "name": "ipython",
    "version": 3
   },
   "file_extension": ".py",
   "mimetype": "text/x-python",
   "name": "python",
   "nbconvert_exporter": "python",
   "pygments_lexer": "ipython3",
   "version": "3.9.12"
  }
 },
 "nbformat": 4,
 "nbformat_minor": 5
}
