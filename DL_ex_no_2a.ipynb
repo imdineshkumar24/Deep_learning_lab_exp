{
  "nbformat": 4,
  "nbformat_minor": 0,
  "metadata": {
    "colab": {
      "provenance": [],
      "authorship_tag": "ABX9TyPqPu0J50UBCq92BpBkS5fd",
      "include_colab_link": true
    },
    "kernelspec": {
      "name": "python3",
      "display_name": "Python 3"
    },
    "language_info": {
      "name": "python"
    }
  },
  "cells": [
    {
      "cell_type": "markdown",
      "metadata": {
        "id": "view-in-github",
        "colab_type": "text"
      },
      "source": [
        "<a href=\"https://colab.research.google.com/github/imdineshkumar24/Deep_learning_lab_exp/blob/main/dl_lab_ex_no_2.ipynb\" target=\"_parent\"><img src=\"https://colab.research.google.com/assets/colab-badge.svg\" alt=\"Open In Colab\"/></a>"
      ]
    },
    {
      "cell_type": "code",
      "execution_count": null,
      "metadata": {
        "id": "bkIVnbVjs39m"
      },
      "outputs": [],
      "source": [
        "from sklearn.datasets import make_classification\n",
        "import pandas as pd\n",
        "import numpy as np\n",
        "from collections import Counter"
      ]
    },
    {
      "cell_type": "code",
      "source": [
        "import matplotlib.pyplot as plt\n",
        "import seaborn as sns"
      ],
      "metadata": {
        "id": "8p8Wk_qvs74F"
      },
      "execution_count": null,
      "outputs": []
    },
    {
      "cell_type": "code",
      "source": [
        "from sklearn.model_selection import train_test_split\n",
        "import tensorflow as tf\n",
        "from tensorflow.keras import layers, losses\n",
        "from sklearn.metrics import classification_report"
      ],
      "metadata": {
        "id": "hBEaj8lEtA4z"
      },
      "execution_count": null,
      "outputs": []
    },
    {
      "cell_type": "code",
      "source": [
        "X, y = make_classification(n_samples=100000, n_features=32,\n",
        "n_informative=32,n_redundant=0, n_repeated=0, n_classes=2,n_clusters_per_class=1,\n",
        "                           weights=[0.995, 0.005],class_sep=0.5, random_state=0)"
      ],
      "metadata": {
        "id": "0yeWa8hntD7b"
      },
      "execution_count": null,
      "outputs": []
    },
    {
      "cell_type": "code",
      "source": [
        "X_train, X_test, y_train, y_test = train_test_split(X, y,\n",
        "test_size=0.2, random_state=42)"
      ],
      "metadata": {
        "id": "i38lDj-RtPVr"
      },
      "execution_count": null,
      "outputs": []
    },
    {
      "cell_type": "code",
      "source": [
        "X_train.shape[0]"
      ],
      "metadata": {
        "colab": {
          "base_uri": "https://localhost:8080/"
        },
        "id": "HZ1miDQKxxbC",
        "outputId": "ca34da05-1355-4568-ad22-5def623073d4"
      },
      "execution_count": null,
      "outputs": [
        {
          "output_type": "execute_result",
          "data": {
            "text/plain": [
              "80000"
            ]
          },
          "metadata": {},
          "execution_count": 39
        }
      ]
    },
    {
      "cell_type": "code",
      "source": [
        "X_test.shape[0]"
      ],
      "metadata": {
        "colab": {
          "base_uri": "https://localhost:8080/"
        },
        "id": "x4uVPw69x2e6",
        "outputId": "cd0a1c4d-aabc-42ec-cb83-9863a24d01ba"
      },
      "execution_count": null,
      "outputs": [
        {
          "output_type": "execute_result",
          "data": {
            "text/plain": [
              "20000"
            ]
          },
          "metadata": {},
          "execution_count": 40
        }
      ]
    },
    {
      "cell_type": "code",
      "source": [
        "X_train_normal = X_train[np.where(y_train == 0)]"
      ],
      "metadata": {
        "id": "VX_Opg5qy4Kz"
      },
      "execution_count": null,
      "outputs": []
    },
    {
      "cell_type": "code",
      "source": [
        "input = tf.keras.layers.Input(shape=(32,))"
      ],
      "metadata": {
        "id": "cexnYmVOy7l7"
      },
      "execution_count": null,
      "outputs": []
    },
    {
      "cell_type": "code",
      "source": [
        "encoder = tf.keras.Sequential([\n",
        " layers.Dense(16, activation=\"relu\"),\n",
        " layers.Dense(8, activation=\"relu\"),\n",
        "layers.Dense(4, activation=\"relu\")])(input)"
      ],
      "metadata": {
        "id": "ehk721v6y9nL"
      },
      "execution_count": null,
      "outputs": []
    },
    {
      "cell_type": "code",
      "source": [
        "decoder = tf.keras.Sequential([layers.Dense(8, activation=\"relu\"),\n",
        "                               layers.Dense(16, activation=\"relu\"),\n",
        "                               layers.Dense(32, activation=\"sigmoid\")])(encoder)"
      ],
      "metadata": {
        "id": "OkOUlM4Mzery"
      },
      "execution_count": null,
      "outputs": []
    },
    {
      "cell_type": "code",
      "source": [
        "autoencoder = tf.keras.Model(inputs=input, outputs=decoder)"
      ],
      "metadata": {
        "id": "uVzsq2miz-JC"
      },
      "execution_count": null,
      "outputs": []
    },
    {
      "cell_type": "code",
      "source": [
        "autoencoder.compile(optimizer=\"adam\", loss='mae')"
      ],
      "metadata": {
        "id": "Z_PjOANK0BUi"
      },
      "execution_count": null,
      "outputs": []
    },
    {
      "cell_type": "code",
      "source": [
        "history = autoencoder.fit(X_train_normal, X_train_normal,\n",
        " epochs=20,\n",
        " batch_size=64,\n",
        " validation_data=(X_test, X_test),\n",
        "shuffle=True)"
      ],
      "metadata": {
        "colab": {
          "base_uri": "https://localhost:8080/"
        },
        "id": "F_TvxZSP1wn5",
        "outputId": "218dfe83-ace7-4d74-dda1-08a2c4abf49d"
      },
      "execution_count": null,
      "outputs": [
        {
          "output_type": "stream",
          "name": "stdout",
          "text": [
            "Epoch 1/20\n",
            "1238/1238 [==============================] - 4s 3ms/step - loss: 2.5370 - val_loss: 2.5135\n",
            "Epoch 2/20\n",
            "1238/1238 [==============================] - 3s 2ms/step - loss: 2.5062 - val_loss: 2.5068\n",
            "Epoch 3/20\n",
            "1238/1238 [==============================] - 3s 2ms/step - loss: 2.5014 - val_loss: 2.5036\n",
            "Epoch 4/20\n",
            "1238/1238 [==============================] - 3s 2ms/step - loss: 2.4982 - val_loss: 2.5009\n",
            "Epoch 5/20\n",
            "1238/1238 [==============================] - 3s 2ms/step - loss: 2.4947 - val_loss: 2.4967\n",
            "Epoch 6/20\n",
            "1238/1238 [==============================] - 3s 3ms/step - loss: 2.4855 - val_loss: 2.4822\n",
            "Epoch 7/20\n",
            "1238/1238 [==============================] - 3s 2ms/step - loss: 2.4767 - val_loss: 2.4790\n",
            "Epoch 8/20\n",
            "1238/1238 [==============================] - 3s 2ms/step - loss: 2.4743 - val_loss: 2.4774\n",
            "Epoch 9/20\n",
            "1238/1238 [==============================] - 2s 2ms/step - loss: 2.4729 - val_loss: 2.4766\n",
            "Epoch 10/20\n",
            "1238/1238 [==============================] - 3s 3ms/step - loss: 2.4718 - val_loss: 2.4754\n",
            "Epoch 11/20\n",
            "1238/1238 [==============================] - 3s 2ms/step - loss: 2.4710 - val_loss: 2.4750\n",
            "Epoch 12/20\n",
            "1238/1238 [==============================] - 3s 2ms/step - loss: 2.4701 - val_loss: 2.4742\n",
            "Epoch 13/20\n",
            "1238/1238 [==============================] - 2s 2ms/step - loss: 2.4694 - val_loss: 2.4728\n",
            "Epoch 14/20\n",
            "1238/1238 [==============================] - 3s 2ms/step - loss: 2.4687 - val_loss: 2.4723\n",
            "Epoch 15/20\n",
            "1238/1238 [==============================] - 6s 4ms/step - loss: 2.4681 - val_loss: 2.4717\n",
            "Epoch 16/20\n",
            "1238/1238 [==============================] - 4s 3ms/step - loss: 2.4676 - val_loss: 2.4712\n",
            "Epoch 17/20\n",
            "1238/1238 [==============================] - 3s 2ms/step - loss: 2.4669 - val_loss: 2.4707\n",
            "Epoch 18/20\n",
            "1238/1238 [==============================] - 3s 3ms/step - loss: 2.4664 - val_loss: 2.4707\n",
            "Epoch 19/20\n",
            "1238/1238 [==============================] - 2s 2ms/step - loss: 2.4659 - val_loss: 2.4697\n",
            "Epoch 20/20\n",
            "1238/1238 [==============================] - 3s 2ms/step - loss: 2.4654 - val_loss: 2.4691\n"
          ]
        }
      ]
    },
    {
      "cell_type": "code",
      "source": [
        "plt.plot(history.history[\"loss\"], label=\"Training Loss\")\n",
        "plt.plot(history.history[\"val_loss\"], label=\"Validation Loss\")\n",
        "plt.legend()"
      ],
      "metadata": {
        "colab": {
          "base_uri": "https://localhost:8080/",
          "height": 450
        },
        "id": "9VQ67JFc12bC",
        "outputId": "f6032479-e487-4947-bb6a-0957b8726159"
      },
      "execution_count": null,
      "outputs": [
        {
          "output_type": "execute_result",
          "data": {
            "text/plain": [
              "<matplotlib.legend.Legend at 0x7cdbf1fda0b0>"
            ]
          },
          "metadata": {},
          "execution_count": 48
        },
        {
          "output_type": "display_data",
          "data": {
            "text/plain": [
              "<Figure size 640x480 with 1 Axes>"
            ],
            "image/png": "[encoded data removed]"
          },
          "metadata": {}
        }
      ]
    },
    {
      "cell_type": "code",
      "source": [
        "prediction = autoencoder.predict(X_test)\n",
        "prediction_loss = tf.keras.losses.mae(prediction, X_test)"
      ],
      "metadata": {
        "colab": {
          "base_uri": "https://localhost:8080/"
        },
        "id": "LLG_oDNx26Pa",
        "outputId": "1addc021-d79d-4155-fdba-8b1f292433cf"
      },
      "execution_count": null,
      "outputs": [
        {
          "output_type": "stream",
          "name": "stdout",
          "text": [
            "625/625 [==============================] - 1s 1ms/step\n"
          ]
        }
      ]
    },
    {
      "cell_type": "code",
      "source": [
        "loss_threshold = np.percentile(prediction_loss, 98)\n",
        "print(f\"The prediction loss threshold for 2% of outliers is {loss_threshold:.2f}\")"
      ],
      "metadata": {
        "colab": {
          "base_uri": "https://localhost:8080/"
        },
        "id": "7DU01qGA3SLB",
        "outputId": "c284c84f-4b82-4554-b139-4a3a520d62e7"
      },
      "execution_count": null,
      "outputs": [
        {
          "output_type": "stream",
          "name": "stdout",
          "text": [
            "The prediction loss threshold for 2% of outliers is 3.47\n"
          ]
        }
      ]
    },
    {
      "cell_type": "code",
      "source": [
        "sns.histplot(prediction_loss, bins=30, alpha=0.8)"
      ],
      "metadata": {
        "colab": {
          "base_uri": "https://localhost:8080/",
          "height": 447
        },
        "id": "L-vT_NRj3hGS",
        "outputId": "d805174e-46d8-499d-b94e-996ce8db3a0e"
      },
      "execution_count": null,
      "outputs": [
        {
          "output_type": "execute_result",
          "data": {
            "text/plain": [
              "<Axes: ylabel='Count'>"
            ]
          },
          "metadata": {},
          "execution_count": 51
        },
        {
          "output_type": "display_data",
          "data": {
            "text/plain": [
              "<Figure size 640x480 with 1 Axes>"
            ],
            "image/png": "[encoded data removed]"
          },
          "metadata": {}
        }
      ]
    },
    {
      "cell_type": "code",
      "source": [
        "threshold_prediction = [0 if i < loss_threshold else 1 for i in prediction_loss]\n",
        "print(classification_report(y_test, threshold_prediction))"
      ],
      "metadata": {
        "colab": {
          "base_uri": "https://localhost:8080/"
        },
        "id": "A44izMoA4zxJ",
        "outputId": "501529b1-b936-4663-bfd9-fe68c5bf2e11"
      },
      "execution_count": null,
      "outputs": [
        {
          "output_type": "stream",
          "name": "stdout",
          "text": [
            "              precision    recall  f1-score   support\n",
            "\n",
            "           0       0.99      0.98      0.98     19803\n",
            "           1       0.00      0.01      0.00       197\n",
            "\n",
            "    accuracy                           0.97     20000\n",
            "   macro avg       0.50      0.49      0.49     20000\n",
            "weighted avg       0.98      0.97      0.98     20000\n",
            "\n"
          ]
        }
      ]
    },
    {
      "cell_type": "code",
      "source": [],
      "metadata": {
        "id": "bbzsyk0x4285",
        "colab": {
          "base_uri": "https://localhost:8080/"
        },
        "outputId": "ecf498ca-c95e-4980-fdfc-94ce80166ac9"
      },
      "execution_count": 2,
      "outputs": [
        {
          "output_type": "stream",
          "name": "stdout",
          "text": [
            "fatal: destination path 'Deep_learning_lab_exp' already exists and is not an empty directory.\n"
          ]
        }
      ]
    },
    {
      "cell_type": "code",
      "source": [],
      "metadata": {
        "id": "B-2ha5hyHBXy"
      },
      "execution_count": null,
      "outputs": []
    }
  ]
}
