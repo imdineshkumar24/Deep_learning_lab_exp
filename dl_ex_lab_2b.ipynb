{
  "nbformat": 4,
  "nbformat_minor": 0,
  "metadata": {
    "colab": {
      "provenance": [],
      "authorship_tag": "ABX9TyO+Vijnt+8eW3u+v5f4DJsf",
      "include_colab_link": true
    },
    "kernelspec": {
      "name": "python3",
      "display_name": "Python 3"
    },
    "language_info": {
      "name": "python"
    }
  },
  "cells": [
    {
      "cell_type": "markdown",
      "metadata": {
        "id": "view-in-github",
        "colab_type": "text"
      },
      "source": [
        "<a href=\"https://colab.research.google.com/github/imdineshkumar24/Deep_learning_lab_exp/blob/main/dl_ex_lab_2b.ipynb\" target=\"_parent\"><img src=\"https://colab.research.google.com/assets/colab-badge.svg\" alt=\"Open In Colab\"/></a>"
      ]
    },
    {
      "cell_type": "code",
      "execution_count": null,
      "metadata": {
        "id": "Ktvft4NqmH8w"
      },
      "outputs": [],
      "source": [
        "-import tensorflow as tf\n",
        "from tensorflow import keras\n",
        "import pandas as pd\n",
        "import numpy as np\n",
        "from collections import Counter"
      ]
    },
    {
      "cell_type": "code",
      "source": [
        "import matplotlib.pyplot as plt\n",
        "import seaborn as sns"
      ],
      "metadata": {
        "id": "jF7abHPYnPwt"
      },
      "execution_count": null,
      "outputs": []
    },
    {
      "cell_type": "code",
      "source": [
        "from sklearn.model_selection import train_test_split\n",
        "from tensorflow.keras import layers, losses\n",
        "from sklearn.metrics import classification_report"
      ],
      "metadata": {
        "id": "mmSR_x-JnTmj"
      },
      "execution_count": null,
      "outputs": []
    },
    {
      "cell_type": "code",
      "source": [
        "(x_train,y_train),(x_test,y_test) = keras.datasets.fashion_mnist.load_data()"
      ],
      "metadata": {
        "id": "4mYPKfzmngCU"
      },
      "execution_count": null,
      "outputs": []
    },
    {
      "cell_type": "code",
      "source": [
        "x_train.shape[0]"
      ],
      "metadata": {
        "colab": {
          "base_uri": "https://localhost:8080/"
        },
        "id": "NUJ6BM4ToTll",
        "outputId": "70c15fc3-5954-426b-88ca-38526abddecf"
      },
      "execution_count": null,
      "outputs": [
        {
          "output_type": "execute_result",
          "data": {
            "text/plain": [
              "60000"
            ]
          },
          "metadata": {},
          "execution_count": 15
        }
      ]
    },
    {
      "cell_type": "code",
      "source": [
        "x_test.shape[0]"
      ],
      "metadata": {
        "colab": {
          "base_uri": "https://localhost:8080/"
        },
        "id": "Bhl9808woXaE",
        "outputId": "b6073d26-62d0-4f59-ba58-77215cb3bcc4"
      },
      "execution_count": null,
      "outputs": [
        {
          "output_type": "execute_result",
          "data": {
            "text/plain": [
              "10000"
            ]
          },
          "metadata": {},
          "execution_count": 16
        }
      ]
    },
    {
      "cell_type": "code",
      "source": [
        "x_train_normal = x_train[np.where(y_train == 0)]"
      ],
      "metadata": {
        "id": "9W8KsP8bocs0"
      },
      "execution_count": null,
      "outputs": []
    },
    {
      "cell_type": "code",
      "source": [
        "input_layer = keras.layers.Input(shape=(28, 28))"
      ],
      "metadata": {
        "id": "pyLBF8oIoiws"
      },
      "execution_count": null,
      "outputs": []
    },
    {
      "cell_type": "code",
      "source": [
        "encoder = keras.Sequential([\n",
        "    keras.layers.Dense(128, activation=\"relu\"),\n",
        "    keras.layers.Dense(64, activation=\"relu\"),\n",
        "    keras.layers.Dense(32, activation=\"relu\")\n",
        "])(input_layer)"
      ],
      "metadata": {
        "id": "sjK_RDQqoor8"
      },
      "execution_count": null,
      "outputs": []
    },
    {
      "cell_type": "code",
      "source": [
        "decoder = keras.Sequential([\n",
        "    keras.layers.Dense(64, activation=\"relu\"),\n",
        "    keras.layers.Dense(128, activation=\"relu\"),\n",
        "    keras.layers.Dense(28, activation=\"sigmoid\")\n",
        "])(encoder)"
      ],
      "metadata": {
        "id": "S1dNu8rUo9M0"
      },
      "execution_count": null,
      "outputs": []
    },
    {
      "cell_type": "code",
      "source": [
        "autoencoder = keras.Model(inputs=input_layer, outputs=decoder)"
      ],
      "metadata": {
        "id": "Ai5M3eKbpAW8"
      },
      "execution_count": null,
      "outputs": []
    },
    {
      "cell_type": "code",
      "source": [
        "autoencoder.compile(optimizer=\"adam\", loss='mean_squared_error')"
      ],
      "metadata": {
        "id": "VhA-0fc6piSc"
      },
      "execution_count": null,
      "outputs": []
    },
    {
      "cell_type": "code",
      "source": [
        "history = autoencoder.fit(x_train_normal, x_train_normal,\n",
        "                          epochs=20,\n",
        "                          batch_size=64,\n",
        "                          validation_data=(x_test, x_test),\n",
        "                          shuffle=True)"
      ],
      "metadata": {
        "colab": {
          "base_uri": "https://localhost:8080/"
        },
        "id": "udmwDNmHpkt0",
        "outputId": "82072092-c7b5-418f-a0d4-0e6bfe5ca7ff"
      },
      "execution_count": null,
      "outputs": [
        {
          "output_type": "stream",
          "name": "stdout",
          "text": [
            "Epoch 1/20\n",
            "94/94 [==============================] - 5s 31ms/step - loss: 14733.1230 - val_loss: 13282.7500\n",
            "Epoch 2/20\n",
            "94/94 [==============================] - 3s 29ms/step - loss: 14728.0586 - val_loss: 13282.7666\n",
            "Epoch 3/20\n",
            "94/94 [==============================] - 3s 27ms/step - loss: 14727.9785 - val_loss: 13282.7012\n",
            "Epoch 4/20\n",
            "94/94 [==============================] - 3s 31ms/step - loss: 14727.9443 - val_loss: 13282.4756\n",
            "Epoch 5/20\n",
            "94/94 [==============================] - 3s 27ms/step - loss: 14727.9277 - val_loss: 13282.4717\n",
            "Epoch 6/20\n",
            "94/94 [==============================] - 3s 27ms/step - loss: 14727.9229 - val_loss: 13282.4570\n",
            "Epoch 7/20\n",
            "94/94 [==============================] - 2s 23ms/step - loss: 14727.9189 - val_loss: 13282.4414\n",
            "Epoch 8/20\n",
            "94/94 [==============================] - 3s 27ms/step - loss: 14727.9170 - val_loss: 13282.4316\n",
            "Epoch 9/20\n",
            "94/94 [==============================] - 3s 31ms/step - loss: 14727.9111 - val_loss: 13282.4199\n",
            "Epoch 10/20\n",
            "94/94 [==============================] - 2s 23ms/step - loss: 14727.9121 - val_loss: 13282.4180\n",
            "Epoch 11/20\n",
            "94/94 [==============================] - 4s 47ms/step - loss: 14727.9053 - val_loss: 13282.4072\n",
            "Epoch 12/20\n",
            "94/94 [==============================] - 5s 51ms/step - loss: 14727.8984 - val_loss: 13282.4062\n",
            "Epoch 13/20\n",
            "94/94 [==============================] - 5s 59ms/step - loss: 14727.8945 - val_loss: 13282.3965\n",
            "Epoch 14/20\n",
            "94/94 [==============================] - 5s 54ms/step - loss: 14727.8936 - val_loss: 13282.3945\n",
            "Epoch 15/20\n",
            "94/94 [==============================] - 6s 61ms/step - loss: 14727.8896 - val_loss: 13282.3936\n",
            "Epoch 16/20\n",
            "94/94 [==============================] - 3s 37ms/step - loss: 14727.8857 - val_loss: 13282.3916\n",
            "Epoch 17/20\n",
            "94/94 [==============================] - 3s 34ms/step - loss: 14727.8857 - val_loss: 13282.3877\n",
            "Epoch 18/20\n",
            "94/94 [==============================] - 3s 27ms/step - loss: 14727.8770 - val_loss: 13281.9990\n",
            "Epoch 19/20\n",
            "94/94 [==============================] - 3s 35ms/step - loss: 14727.8652 - val_loss: 13281.9932\n",
            "Epoch 20/20\n",
            "94/94 [==============================] - 3s 27ms/step - loss: 14727.8516 - val_loss: 13281.9932\n"
          ]
        }
      ]
    },
    {
      "cell_type": "code",
      "source": [
        "plt.plot(history.history[\"loss\"], label=\"Training Loss\")\n",
        "plt.plot(history.history[\"val_loss\"], label=\"Validation Loss\")\n",
        "plt.legend()"
      ],
      "metadata": {
        "colab": {
          "base_uri": "https://localhost:8080/",
          "height": 451
        },
        "id": "MCdFizYDpnJs",
        "outputId": "02d1ab91-fa58-451f-9abc-e5e57494aa56"
      },
      "execution_count": null,
      "outputs": [
        {
          "output_type": "execute_result",
          "data": {
            "text/plain": [
              "<matplotlib.legend.Legend at 0x7f27726ea950>"
            ]
          },
          "metadata": {},
          "execution_count": 53
        },
        {
          "output_type": "display_data",
          "data": {
            "text/plain": [
              "<Figure size 640x480 with 1 Axes>"
            ],
            "image/png": "[encoded data removed]"
          },
          "metadata": {}
        }
      ]
    },
    {
      "cell_type": "code",
      "source": [
        "x_test = x_test.astype('float32')\n",
        "prediction = autoencoder.predict(x_test)\n",
        "prediction_loss = tf.keras.losses.mean_absolute_error(prediction, x_test)"
      ],
      "metadata": {
        "colab": {
          "base_uri": "https://localhost:8080/"
        },
        "id": "HLi0u4EstZX8",
        "outputId": "8bbb9e8d-bf02-4c77-b87d-2c77b7cac9d3"
      },
      "execution_count": null,
      "outputs": [
        {
          "output_type": "stream",
          "name": "stdout",
          "text": [
            "313/313 [==============================] - 2s 6ms/step\n"
          ]
        }
      ]
    },
    {
      "cell_type": "code",
      "source": [
        "loss_threshold = np.percentile(prediction_loss, 98)\n",
        "print(f\"The prediction loss threshold for 2% of outliers is {loss_threshold:.2f}\")"
      ],
      "metadata": {
        "colab": {
          "base_uri": "https://localhost:8080/"
        },
        "id": "M1EQs5hZtd4F",
        "outputId": "3bf1028f-e4fc-4072-b79c-069b63ac4ecc"
      },
      "execution_count": null,
      "outputs": [
        {
          "output_type": "stream",
          "name": "stdout",
          "text": [
            "The prediction loss threshold for 2% of outliers is 183.21\n"
          ]
        }
      ]
    },
    {
      "cell_type": "code",
      "source": [
        "sns.histplot(prediction_loss, bins=30, alpha=0.8)\n",
        "plt.axvline(x=loss_threshold, color=\"orange\")"
      ],
      "metadata": {
        "colab": {
          "base_uri": "https://localhost:8080/",
          "height": 675
        },
        "id": "_SWywi67t6ht",
        "outputId": "08968cd3-f0d0-44fd-d606-bf9c9cc0a1c6"
      },
      "execution_count": null,
      "outputs": [
        {
          "output_type": "execute_result",
          "data": {
            "text/plain": [
              "<matplotlib.lines.Line2D at 0x7f2772346230>"
            ]
          },
          "metadata": {},
          "execution_count": 57
        },
        {
          "output_type": "display_data",
          "data": {
            "text/plain": [
              "<Figure size 640x480 with 1 Axes>"
            ],
            "image/png": "[encoded data removed]"
          },
          "metadata": {}
        }
      ]
    },
    {
      "cell_type": "code",
      "source": [],
      "metadata": {
        "id": "aUagM0NMvBc0"
      },
      "execution_count": null,
      "outputs": []
    }
  ]
}